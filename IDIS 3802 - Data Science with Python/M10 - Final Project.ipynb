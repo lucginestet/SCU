{
 "cells": [
  {
   "cell_type": "markdown",
   "metadata": {},
   "source": [
    "<h1>Data Description</h1>"
   ]
  },
  {
   "cell_type": "code",
   "execution_count": 234,
   "metadata": {},
   "outputs": [],
   "source": [
    "import pandas as pd\n",
    "import numpy as np\n",
    "import matplotlib.pyplot as plt\n",
    "import seaborn as sns\n",
    "import warnings\n",
    "from sklearn.model_selection import train_test_split\n",
    "from sklearn.model_selection import cross_val_score\n",
    "from sklearn.model_selection import StratifiedKFold\n",
    "from sklearn.metrics import classification_report\n",
    "from sklearn.metrics import confusion_matrix\n",
    "from sklearn.metrics import accuracy_score\n",
    "from sklearn.linear_model import LogisticRegression\n",
    "from sklearn.tree import DecisionTreeClassifier\n",
    "from sklearn.neighbors import KNeighborsClassifier\n",
    "from sklearn.linear_model import LinearRegression\n",
    "from sklearn.svm import SVC\n",
    "from sklearn.metrics import accuracy_score\n",
    "from sklearn import metrics\n",
    "from sklearn import tree\n",
    "from matplotlib.pylab import rcParams\n",
    "warnings.filterwarnings('ignore')"
   ]
  },
  {
   "cell_type": "markdown",
   "metadata": {},
   "source": [
    "This dataset contains customer information for Orange Telecom with the aim at using predictive models to forecast customer churn and develop/inform customer retention programs.\n",
    "\n",
    "Let's take a look at the data"
   ]
  },
  {
   "cell_type": "code",
   "execution_count": 235,
   "metadata": {},
   "outputs": [
    {
     "data": {
      "text/html": [
       "<div>\n",
       "<style scoped>\n",
       "    .dataframe tbody tr th:only-of-type {\n",
       "        vertical-align: middle;\n",
       "    }\n",
       "\n",
       "    .dataframe tbody tr th {\n",
       "        vertical-align: top;\n",
       "    }\n",
       "\n",
       "    .dataframe thead th {\n",
       "        text-align: right;\n",
       "    }\n",
       "</style>\n",
       "<table border=\"1\" class=\"dataframe\">\n",
       "  <thead>\n",
       "    <tr style=\"text-align: right;\">\n",
       "      <th></th>\n",
       "      <th>State</th>\n",
       "      <th>Account length</th>\n",
       "      <th>Area code</th>\n",
       "      <th>International plan</th>\n",
       "      <th>Voice mail plan</th>\n",
       "      <th>Number vmail messages</th>\n",
       "      <th>Total day minutes</th>\n",
       "      <th>Total day calls</th>\n",
       "      <th>Total day charge</th>\n",
       "      <th>Total eve minutes</th>\n",
       "      <th>Total eve calls</th>\n",
       "      <th>Total eve charge</th>\n",
       "      <th>Total night minutes</th>\n",
       "      <th>Total night calls</th>\n",
       "      <th>Total night charge</th>\n",
       "      <th>Total intl minutes</th>\n",
       "      <th>Total intl calls</th>\n",
       "      <th>Total intl charge</th>\n",
       "      <th>Customer service calls</th>\n",
       "      <th>Churn</th>\n",
       "    </tr>\n",
       "  </thead>\n",
       "  <tbody>\n",
       "    <tr>\n",
       "      <th>0</th>\n",
       "      <td>KS</td>\n",
       "      <td>128</td>\n",
       "      <td>415</td>\n",
       "      <td>No</td>\n",
       "      <td>Yes</td>\n",
       "      <td>25</td>\n",
       "      <td>265.1</td>\n",
       "      <td>110</td>\n",
       "      <td>45.07</td>\n",
       "      <td>197.4</td>\n",
       "      <td>99</td>\n",
       "      <td>16.78</td>\n",
       "      <td>244.7</td>\n",
       "      <td>91</td>\n",
       "      <td>11.01</td>\n",
       "      <td>10.0</td>\n",
       "      <td>3</td>\n",
       "      <td>2.70</td>\n",
       "      <td>1</td>\n",
       "      <td>False</td>\n",
       "    </tr>\n",
       "    <tr>\n",
       "      <th>1</th>\n",
       "      <td>OH</td>\n",
       "      <td>107</td>\n",
       "      <td>415</td>\n",
       "      <td>No</td>\n",
       "      <td>Yes</td>\n",
       "      <td>26</td>\n",
       "      <td>161.6</td>\n",
       "      <td>123</td>\n",
       "      <td>27.47</td>\n",
       "      <td>195.5</td>\n",
       "      <td>103</td>\n",
       "      <td>16.62</td>\n",
       "      <td>254.4</td>\n",
       "      <td>103</td>\n",
       "      <td>11.45</td>\n",
       "      <td>13.7</td>\n",
       "      <td>3</td>\n",
       "      <td>3.70</td>\n",
       "      <td>1</td>\n",
       "      <td>False</td>\n",
       "    </tr>\n",
       "    <tr>\n",
       "      <th>2</th>\n",
       "      <td>NJ</td>\n",
       "      <td>137</td>\n",
       "      <td>415</td>\n",
       "      <td>No</td>\n",
       "      <td>No</td>\n",
       "      <td>0</td>\n",
       "      <td>243.4</td>\n",
       "      <td>114</td>\n",
       "      <td>41.38</td>\n",
       "      <td>121.2</td>\n",
       "      <td>110</td>\n",
       "      <td>10.30</td>\n",
       "      <td>162.6</td>\n",
       "      <td>104</td>\n",
       "      <td>7.32</td>\n",
       "      <td>12.2</td>\n",
       "      <td>5</td>\n",
       "      <td>3.29</td>\n",
       "      <td>0</td>\n",
       "      <td>False</td>\n",
       "    </tr>\n",
       "    <tr>\n",
       "      <th>3</th>\n",
       "      <td>OH</td>\n",
       "      <td>84</td>\n",
       "      <td>408</td>\n",
       "      <td>Yes</td>\n",
       "      <td>No</td>\n",
       "      <td>0</td>\n",
       "      <td>299.4</td>\n",
       "      <td>71</td>\n",
       "      <td>50.90</td>\n",
       "      <td>61.9</td>\n",
       "      <td>88</td>\n",
       "      <td>5.26</td>\n",
       "      <td>196.9</td>\n",
       "      <td>89</td>\n",
       "      <td>8.86</td>\n",
       "      <td>6.6</td>\n",
       "      <td>7</td>\n",
       "      <td>1.78</td>\n",
       "      <td>2</td>\n",
       "      <td>False</td>\n",
       "    </tr>\n",
       "    <tr>\n",
       "      <th>4</th>\n",
       "      <td>OK</td>\n",
       "      <td>75</td>\n",
       "      <td>415</td>\n",
       "      <td>Yes</td>\n",
       "      <td>No</td>\n",
       "      <td>0</td>\n",
       "      <td>166.7</td>\n",
       "      <td>113</td>\n",
       "      <td>28.34</td>\n",
       "      <td>148.3</td>\n",
       "      <td>122</td>\n",
       "      <td>12.61</td>\n",
       "      <td>186.9</td>\n",
       "      <td>121</td>\n",
       "      <td>8.41</td>\n",
       "      <td>10.1</td>\n",
       "      <td>3</td>\n",
       "      <td>2.73</td>\n",
       "      <td>3</td>\n",
       "      <td>False</td>\n",
       "    </tr>\n",
       "  </tbody>\n",
       "</table>\n",
       "</div>"
      ],
      "text/plain": [
       "  State  Account length  Area code International plan Voice mail plan  \\\n",
       "0    KS             128        415                 No             Yes   \n",
       "1    OH             107        415                 No             Yes   \n",
       "2    NJ             137        415                 No              No   \n",
       "3    OH              84        408                Yes              No   \n",
       "4    OK              75        415                Yes              No   \n",
       "\n",
       "   Number vmail messages  Total day minutes  Total day calls  \\\n",
       "0                     25              265.1              110   \n",
       "1                     26              161.6              123   \n",
       "2                      0              243.4              114   \n",
       "3                      0              299.4               71   \n",
       "4                      0              166.7              113   \n",
       "\n",
       "   Total day charge  Total eve minutes  Total eve calls  Total eve charge  \\\n",
       "0             45.07              197.4               99             16.78   \n",
       "1             27.47              195.5              103             16.62   \n",
       "2             41.38              121.2              110             10.30   \n",
       "3             50.90               61.9               88              5.26   \n",
       "4             28.34              148.3              122             12.61   \n",
       "\n",
       "   Total night minutes  Total night calls  Total night charge  \\\n",
       "0                244.7                 91               11.01   \n",
       "1                254.4                103               11.45   \n",
       "2                162.6                104                7.32   \n",
       "3                196.9                 89                8.86   \n",
       "4                186.9                121                8.41   \n",
       "\n",
       "   Total intl minutes  Total intl calls  Total intl charge  \\\n",
       "0                10.0                 3               2.70   \n",
       "1                13.7                 3               3.70   \n",
       "2                12.2                 5               3.29   \n",
       "3                 6.6                 7               1.78   \n",
       "4                10.1                 3               2.73   \n",
       "\n",
       "   Customer service calls  Churn  \n",
       "0                       1  False  \n",
       "1                       1  False  \n",
       "2                       0  False  \n",
       "3                       2  False  \n",
       "4                       3  False  "
      ]
     },
     "execution_count": 235,
     "metadata": {},
     "output_type": "execute_result"
    }
   ],
   "source": [
    "#Load csv and take a look at the format/values of the dataset\n",
    "data = pd.read_csv('telecom_churn.csv')\n",
    "data.head()"
   ]
  },
  {
   "cell_type": "markdown",
   "metadata": {},
   "source": [
    "Each row corresponds to one customer and the definitions for each row is below:"
   ]
  },
  {
   "cell_type": "markdown",
   "metadata": {},
   "source": [
    "| Variable | Description |\n",
    "| :- | :- |\n",
    "| State | Customer state |\n",
    "| Account length | Customer tenure (in days) |\n",
    "| Area code | Customer area code |\n",
    "| International plan | If customer has international plan service |\n",
    "| Voice mail plan | If customer has voicemail service |\n",
    "| Number vmail messages | Count of voicemail messages|\n",
    "| Total day minutes | Total minutes spent talking during the day |\n",
    "| Total day calls | Count of calls made during the day |\n",
    "| Total day charge | Total charge for calls made during the day |\n",
    "| Total eve minutes | Total minutes spent talking during the evening |\n",
    "| Total eve calls | Count of calls made during the evening |\n",
    "| Total eve charge | Total charge for calls made during the evening |\n",
    "| Total night minutes | Total minutes spent talking during the night |\n",
    "| Total night calls | Count of calls made during the night |\n",
    "| Total night charge | Total charge for calls made during the night |\n",
    "| Total intl minutes | Total minutes spent talking internationally |\n",
    "| Total intl calls | Count of calls made internationally |\n",
    "| Total intl charge | Total charge for calls made internationally |\n",
    "| Customer service calls | Count of calls customers call to customer service |\n",
    "| Churn | Customer cancelled service |"
   ]
  },
  {
   "cell_type": "markdown",
   "metadata": {},
   "source": [
    "For modelling purposes, we will use Churn as our target and all other variables as features."
   ]
  },
  {
   "cell_type": "markdown",
   "metadata": {},
   "source": [
    "<h1>Data exploration and cleanup</h1>"
   ]
  },
  {
   "cell_type": "markdown",
   "metadata": {},
   "source": [
    "The dataset contains 3,333 rows and does not contain any null-values (seen by the non-null count for each columns) so we do not need to impute any values for our model. We do need to replace Boolean and yes/no columns to numeric 1/0, however. We also need to convert the Area Code column to a string to our model interprets each distinct area code as a category instead of its numeric value."
   ]
  },
  {
   "cell_type": "code",
   "execution_count": 236,
   "metadata": {
    "scrolled": true
   },
   "outputs": [
    {
     "name": "stdout",
     "output_type": "stream",
     "text": [
      "<class 'pandas.core.frame.DataFrame'>\n",
      "RangeIndex: 3333 entries, 0 to 3332\n",
      "Data columns (total 20 columns):\n",
      " #   Column                  Non-Null Count  Dtype  \n",
      "---  ------                  --------------  -----  \n",
      " 0   State                   3333 non-null   object \n",
      " 1   Account length          3333 non-null   int64  \n",
      " 2   Area code               3333 non-null   int64  \n",
      " 3   International plan      3333 non-null   object \n",
      " 4   Voice mail plan         3333 non-null   object \n",
      " 5   Number vmail messages   3333 non-null   int64  \n",
      " 6   Total day minutes       3333 non-null   float64\n",
      " 7   Total day calls         3333 non-null   int64  \n",
      " 8   Total day charge        3333 non-null   float64\n",
      " 9   Total eve minutes       3333 non-null   float64\n",
      " 10  Total eve calls         3333 non-null   int64  \n",
      " 11  Total eve charge        3333 non-null   float64\n",
      " 12  Total night minutes     3333 non-null   float64\n",
      " 13  Total night calls       3333 non-null   int64  \n",
      " 14  Total night charge      3333 non-null   float64\n",
      " 15  Total intl minutes      3333 non-null   float64\n",
      " 16  Total intl calls        3333 non-null   int64  \n",
      " 17  Total intl charge       3333 non-null   float64\n",
      " 18  Customer service calls  3333 non-null   int64  \n",
      " 19  Churn                   3333 non-null   bool   \n",
      "dtypes: bool(1), float64(8), int64(8), object(3)\n",
      "memory usage: 498.1+ KB\n"
     ]
    }
   ],
   "source": [
    "data.info()"
   ]
  },
  {
   "cell_type": "markdown",
   "metadata": {},
   "source": [
    "To simplify the inputs going into our model, we are not including the Total Charge columns as they can be derived from the Total Minutes columns. Proof of their correlation can be seen below. Similarly, we will not be including the International and Voice Mail Plan columns as those columns can be derived from the Intl Minutes/Calls and Number Vmail Messages columns respectively."
   ]
  },
  {
   "cell_type": "code",
   "execution_count": 256,
   "metadata": {},
   "outputs": [],
   "source": [
    "#Convert yes/no columns to 1/0\n",
    "data.replace(to_replace='Yes', value=1, inplace=True)\n",
    "data.replace(to_replace='No', value=0, inplace=True)\n",
    "\n",
    "#Convert boolean values to 1/0\n",
    "data['Churn']=data['Churn'].astype('int')\n",
    "\n",
    "#Convert numeric Area code columns to a string\n",
    "data['Area code'] = data['Area code'].apply(str)"
   ]
  },
  {
   "cell_type": "code",
   "execution_count": 257,
   "metadata": {},
   "outputs": [
    {
     "name": "stdout",
     "output_type": "stream",
     "text": [
      "Correlation between Total Day Charge and Total Day Minutes columns:  0.9999999521903998\n",
      "Correlation between Total Eve Charge and Total Eve Minutes columns:  0.9999997760198506\n",
      "Correlation between Total Night Charge and Total Night Minutes columns:  0.9999992148758772\n"
     ]
    }
   ],
   "source": [
    "print(\"Correlation between Total Day Charge and Total Day Minutes columns: \", data['Total day charge'].corr(data['Total day minutes']))\n",
    "print(\"Correlation between Total Eve Charge and Total Eve Minutes columns: \", data['Total eve charge'].corr(data['Total eve minutes']))\n",
    "print(\"Correlation between Total Night Charge and Total Night Minutes columns: \", data['Total night charge'].corr(data['Total night minutes']))"
   ]
  },
  {
   "cell_type": "markdown",
   "metadata": {},
   "source": [
    "Finally, we will declare out model feature columns as well as the target variable and split the dataset into training and testing buckets."
   ]
  },
  {
   "cell_type": "code",
   "execution_count": 245,
   "metadata": {},
   "outputs": [],
   "source": [
    "feature_cols = ['Account length','Area code','Number vmail messages',\n",
    "                'Total day minutes','Total day calls',\n",
    "                'Total eve minutes','Total eve calls',\n",
    "                'Total night minutes','Total night calls',\n",
    "                'Total intl minutes','Total intl calls',\n",
    "                'Customer service calls']\n",
    "X = data[feature_cols]\n",
    "y = data.Churn\n",
    "X_train, X_test, y_train, y_test = train_test_split(X, y, test_size=0.3)"
   ]
  },
  {
   "cell_type": "markdown",
   "metadata": {},
   "source": [
    "<h1> Finding 1: We can predict customer churn with 88% accuracy. </h1>"
   ]
  },
  {
   "cell_type": "markdown",
   "metadata": {},
   "source": [
    "We tested multiple machine learning algorithms and compared their accuracy scores to see which model could predict customer Churn most accurately. The winning algorithm was the K-nearest neighbor algorithm with an accuracy of 88%."
   ]
  },
  {
   "cell_type": "code",
   "execution_count": 246,
   "metadata": {},
   "outputs": [],
   "source": [
    "#Logistic Regression\n",
    "reg = LogisticRegression(solver='liblinear')\n",
    "fit_reg = reg.fit(X_train, y_train)\n",
    "y_lr_pred = reg.predict(X_test)\n",
    "\n",
    "#K-Nearest Neighbor\n",
    "kn = KNeighborsClassifier(n_neighbors=5)\n",
    "fit_kn = kn.fit(X_train, y_train)\n",
    "y_kn_pred = kn.predict(X_test)\n",
    "\n",
    "#Decision Tree\n",
    "dt = DecisionTreeClassifier()\n",
    "fit_dt = dt.fit(X_train, y_train)\n",
    "y_dt_pred = dt.predict(X_test)\n",
    "\n",
    "#Support Vector Machine\n",
    "svm = SVC()\n",
    "fit_svm = svm.fit(X_train, y_train)\n",
    "y_svm_pred = svm.predict(X_test)"
   ]
  },
  {
   "cell_type": "code",
   "execution_count": 247,
   "metadata": {},
   "outputs": [
    {
     "name": "stdout",
     "output_type": "stream",
     "text": [
      "              precision    recall  f1-score   support\n",
      "\n",
      "           0       0.89      0.98      0.93       855\n",
      "           1       0.72      0.30      0.42       145\n",
      "\n",
      "    accuracy                           0.88      1000\n",
      "   macro avg       0.80      0.64      0.68      1000\n",
      "weighted avg       0.87      0.88      0.86      1000\n",
      "\n"
     ]
    }
   ],
   "source": [
    "#Classification report\n",
    "print(classification_report(y_test, y_kn_pred))"
   ]
  },
  {
   "cell_type": "markdown",
   "metadata": {},
   "source": [
    "<h3> Managerial Insight </h3>"
   ]
  },
  {
   "cell_type": "markdown",
   "metadata": {},
   "source": [
    "By being able to predict customer churn, we can flag certain customers with a high likelihood to cancel their subscription and reach out to try and resolve any issues they might have with our services. This targeted outreach can save on customer service expenses since we are only engaging with a subset of our entire customer base. </br>\n",
    "\n",
    "Suggested next action item would be to run this model against our active customer base to see how many current customers are likely to cancel and provide that list to our customer service agents who can reach out to solve any outstanding issues with our service and ultimately increase customer retention."
   ]
  },
  {
   "cell_type": "markdown",
   "metadata": {},
   "source": [
    "<h3> Machine learning mastery </h3>"
   ]
  },
  {
   "cell_type": "markdown",
   "metadata": {},
   "source": [
    "Most of the work for this insight was done in the data prepatation phase. It was crucial to ensure that our data was clean with regards to null values and that each feature column was the right type for our models to interpret. Once that was completed, the rest was relatively simple. Using the sklearn package we called multiple different models to run against our dataset and compared the accuracy scores to see which was the best. The results can be seen below. The K-nearest neighbor algorithm with n_neighbors = 5 was the winner in this case."
   ]
  },
  {
   "cell_type": "code",
   "execution_count": 248,
   "metadata": {},
   "outputs": [
    {
     "name": "stdout",
     "output_type": "stream",
     "text": [
      "Logistic Regression:  0.862\n",
      "K-Nearest Neighbor:  0.881\n",
      "Decision Tree:  0.876\n",
      "Support Vector Machine:  0.855\n"
     ]
    }
   ],
   "source": [
    "#Print out accuracy scores for each algorithm\n",
    "print('Logistic Regression: ', accuracy_score(y_test, y_lr_pred))\n",
    "print('K-Nearest Neighbor: ', accuracy_score(y_test, y_kn_pred))\n",
    "print('Decision Tree: ', accuracy_score(y_test, y_dt_pred))\n",
    "print('Support Vector Machine: ', accuracy_score(y_test, y_svm_pred))"
   ]
  },
  {
   "cell_type": "markdown",
   "metadata": {},
   "source": [
    "<h1> Finding 2: An increase in daytime usage and customer service calls increases the likelihood for attrition </h1>"
   ]
  },
  {
   "cell_type": "markdown",
   "metadata": {},
   "source": [
    "Customers who have to call customer service 4 or more times have an extremely high likelihood of churning as exhibited in the graph below. About half of customers that call 4 times have churned and that percentage increases for each increase in customer service calls."
   ]
  },
  {
   "cell_type": "code",
   "execution_count": 208,
   "metadata": {},
   "outputs": [
    {
     "data": {
      "text/plain": [
       "<matplotlib.legend.Legend at 0x213a9b52ca0>"
      ]
     },
     "execution_count": 208,
     "metadata": {},
     "output_type": "execute_result"
    },
    {
     "data": {
      "image/png": "[encoded data removed]",
      "text/plain": [
       "<Figure size 432x288 with 1 Axes>"
      ]
     },
     "metadata": {
      "needs_background": "light"
     },
     "output_type": "display_data"
    }
   ],
   "source": [
    "#Create dataframe with distribution of customer service calls and churn\n",
    "CS = data.groupby(by='Customer service calls').agg({'Churn': ['size','sum']})\n",
    "CS.reset_index(inplace=True)\n",
    "CS.columns = 'Customer service calls', 'size','sum'\n",
    "\n",
    "\n",
    "#Plot results against each other\n",
    "ax = CS[[\"Customer service calls\",\"size\", \"sum\"]].plot(x='Customer service calls', \n",
    "                                                        kind='bar', \n",
    "                                                        color=[\"g\",\"r\"],\n",
    "                                                        rot=0)\n",
    "ax.legend([\"Customers\", \"Churned\"])"
   ]
  },
  {
   "cell_type": "markdown",
   "metadata": {},
   "source": [
    "Similarly, customers with very high usage in the daytime are also very likely to churn as exhibited by the graph below. In general, we see that attrition goes down the more daytime minutes a customer has but goes up sharply past a certain point. Customers in the highest daytime usage category are the most likely to cancel their subscription."
   ]
  },
  {
   "cell_type": "code",
   "execution_count": 221,
   "metadata": {},
   "outputs": [
    {
     "data": {
      "text/plain": [
       "<matplotlib.legend.Legend at 0x213afce3e20>"
      ]
     },
     "execution_count": 221,
     "metadata": {},
     "output_type": "execute_result"
    },
    {
     "data": {
      "image/png": "[encoded data removed]",
      "text/plain": [
       "<Figure size 432x288 with 1 Axes>"
      ]
     },
     "metadata": {
      "needs_background": "light"
     },
     "output_type": "display_data"
    }
   ],
   "source": [
    "#Create dataframe with distribution of daytime minutes and churn\n",
    "dm = data.groupby(by=pd.qcut(data['Total day minutes'], q=5)).agg({'Churn': ['size','sum']})\n",
    "dm.reset_index(inplace=True)\n",
    "dm.columns = 'Total day minutes', 'size','sum'\n",
    "\n",
    "\n",
    "#Plot results against each other\n",
    "ax_dm = dm[[\"Total day minutes\",\"size\", \"sum\"]].plot(x='Total day minutes', \n",
    "                                                        kind='bar', \n",
    "                                                        color=[\"g\",\"r\"],\n",
    "                                                        rot=45)\n",
    "ax_dm.legend([\"Customers\", \"Churned\"])"
   ]
  },
  {
   "cell_type": "markdown",
   "metadata": {},
   "source": [
    "<h3> Managerial Insight </h3>"
   ]
  },
  {
   "cell_type": "markdown",
   "metadata": {},
   "source": [
    "These insights can point to two different parts of the business that we can improve. The fact that more contact with customer service leads to increased attrition can suggest that our customer service agents are not trained properly to deal with issues quickly or can also suggest that our service could be upgraded to avoid customer service calls in the first place. The second insight of higher daytime usage leading to increased attrition adds to the hypothesis that perhaps we need to upgrade our systems. If our most power users are leaving the company, that must mean that after a certain point our system cannot handle their demands anymore. By upgrading our antennas, we can ensure that we retain our most active and valuable customers while also reducing customer service calls."
   ]
  },
  {
   "cell_type": "markdown",
   "metadata": {},
   "source": [
    "<h3> Machine learning mastery <?h3>"
   ]
  },
  {
   "cell_type": "markdown",
   "metadata": {},
   "source": [
    "Using the results from the models ran for the previous insight, we can take a peak inside the algorithms that lend themselves to interpreting their results and see if certain features are more important than others and how they affect whether or not a customer will cancel. </br>\n",
    "\n",
    "For example, we can look at feature importance from the decision tree results to see which features affects the Churn prediction the most. Here we can see that daytime minutes and customer service calls are among the top three features."
   ]
  },
  {
   "cell_type": "code",
   "execution_count": 224,
   "metadata": {},
   "outputs": [
    {
     "data": {
      "text/html": [
       "<div>\n",
       "<style scoped>\n",
       "    .dataframe tbody tr th:only-of-type {\n",
       "        vertical-align: middle;\n",
       "    }\n",
       "\n",
       "    .dataframe tbody tr th {\n",
       "        vertical-align: top;\n",
       "    }\n",
       "\n",
       "    .dataframe thead th {\n",
       "        text-align: right;\n",
       "    }\n",
       "</style>\n",
       "<table border=\"1\" class=\"dataframe\">\n",
       "  <thead>\n",
       "    <tr style=\"text-align: right;\">\n",
       "      <th></th>\n",
       "      <th>Feature</th>\n",
       "      <th>Importance</th>\n",
       "    </tr>\n",
       "  </thead>\n",
       "  <tbody>\n",
       "    <tr>\n",
       "      <th>3</th>\n",
       "      <td>Total day minutes</td>\n",
       "      <td>0.267138</td>\n",
       "    </tr>\n",
       "    <tr>\n",
       "      <th>5</th>\n",
       "      <td>Total eve minutes</td>\n",
       "      <td>0.144168</td>\n",
       "    </tr>\n",
       "    <tr>\n",
       "      <th>11</th>\n",
       "      <td>Customer service calls</td>\n",
       "      <td>0.116919</td>\n",
       "    </tr>\n",
       "    <tr>\n",
       "      <th>2</th>\n",
       "      <td>Number vmail messages</td>\n",
       "      <td>0.080010</td>\n",
       "    </tr>\n",
       "    <tr>\n",
       "      <th>4</th>\n",
       "      <td>Total day calls</td>\n",
       "      <td>0.079891</td>\n",
       "    </tr>\n",
       "    <tr>\n",
       "      <th>7</th>\n",
       "      <td>Total night minutes</td>\n",
       "      <td>0.077438</td>\n",
       "    </tr>\n",
       "    <tr>\n",
       "      <th>9</th>\n",
       "      <td>Total intl minutes</td>\n",
       "      <td>0.064166</td>\n",
       "    </tr>\n",
       "    <tr>\n",
       "      <th>0</th>\n",
       "      <td>Account length</td>\n",
       "      <td>0.055897</td>\n",
       "    </tr>\n",
       "    <tr>\n",
       "      <th>6</th>\n",
       "      <td>Total eve calls</td>\n",
       "      <td>0.046558</td>\n",
       "    </tr>\n",
       "    <tr>\n",
       "      <th>10</th>\n",
       "      <td>Total intl calls</td>\n",
       "      <td>0.030851</td>\n",
       "    </tr>\n",
       "    <tr>\n",
       "      <th>8</th>\n",
       "      <td>Total night calls</td>\n",
       "      <td>0.023928</td>\n",
       "    </tr>\n",
       "    <tr>\n",
       "      <th>1</th>\n",
       "      <td>Area code</td>\n",
       "      <td>0.013037</td>\n",
       "    </tr>\n",
       "  </tbody>\n",
       "</table>\n",
       "</div>"
      ],
      "text/plain": [
       "                   Feature  Importance\n",
       "3        Total day minutes    0.267138\n",
       "5        Total eve minutes    0.144168\n",
       "11  Customer service calls    0.116919\n",
       "2    Number vmail messages    0.080010\n",
       "4          Total day calls    0.079891\n",
       "7      Total night minutes    0.077438\n",
       "9       Total intl minutes    0.064166\n",
       "0           Account length    0.055897\n",
       "6          Total eve calls    0.046558\n",
       "10        Total intl calls    0.030851\n",
       "8        Total night calls    0.023928\n",
       "1                Area code    0.013037"
      ]
     },
     "execution_count": 224,
     "metadata": {},
     "output_type": "execute_result"
    }
   ],
   "source": [
    "#Display feature importance values from the decision tree model\n",
    "imp = pd.DataFrame(fit_dt.feature_importances_, np.array(feature_cols))\n",
    "imp.reset_index(inplace=True)\n",
    "imp.rename(columns={'index': 'Feature', 0: 'Importance'}, inplace=True)\n",
    "imp.sort_values(by='Importance', ascending=False)"
   ]
  },
  {
   "cell_type": "markdown",
   "metadata": {},
   "source": [
    "In addition, when we look at the sign of the coefficients from the logistic regression and see whether or not an increase in daytime minutes and customer service calls increase or decrease the likelihood of attrition. Here we see that both features are positive meaning that an increase in daytime minutes and customer service calls has a positive correlation with churn."
   ]
  },
  {
   "cell_type": "code",
   "execution_count": 225,
   "metadata": {},
   "outputs": [
    {
     "data": {
      "text/html": [
       "<div>\n",
       "<style scoped>\n",
       "    .dataframe tbody tr th:only-of-type {\n",
       "        vertical-align: middle;\n",
       "    }\n",
       "\n",
       "    .dataframe tbody tr th {\n",
       "        vertical-align: top;\n",
       "    }\n",
       "\n",
       "    .dataframe thead th {\n",
       "        text-align: right;\n",
       "    }\n",
       "</style>\n",
       "<table border=\"1\" class=\"dataframe\">\n",
       "  <thead>\n",
       "    <tr style=\"text-align: right;\">\n",
       "      <th></th>\n",
       "      <th>Account length</th>\n",
       "      <th>Area code</th>\n",
       "      <th>Number vmail messages</th>\n",
       "      <th>Total day minutes</th>\n",
       "      <th>Total day calls</th>\n",
       "      <th>Total eve minutes</th>\n",
       "      <th>Total eve calls</th>\n",
       "      <th>Total night minutes</th>\n",
       "      <th>Total night calls</th>\n",
       "      <th>Total intl minutes</th>\n",
       "      <th>Total intl calls</th>\n",
       "      <th>Customer service calls</th>\n",
       "    </tr>\n",
       "  </thead>\n",
       "  <tbody>\n",
       "    <tr>\n",
       "      <th>0</th>\n",
       "      <td>-0.000504</td>\n",
       "      <td>-0.003621</td>\n",
       "      <td>-0.025541</td>\n",
       "      <td>0.011165</td>\n",
       "      <td>0.000221</td>\n",
       "      <td>0.005504</td>\n",
       "      <td>-0.003023</td>\n",
       "      <td>0.000734</td>\n",
       "      <td>-0.00346</td>\n",
       "      <td>0.071943</td>\n",
       "      <td>-0.068698</td>\n",
       "      <td>0.436626</td>\n",
       "    </tr>\n",
       "  </tbody>\n",
       "</table>\n",
       "</div>"
      ],
      "text/plain": [
       "   Account length  Area code  Number vmail messages  Total day minutes  \\\n",
       "0       -0.000504  -0.003621              -0.025541           0.011165   \n",
       "\n",
       "   Total day calls  Total eve minutes  Total eve calls  Total night minutes  \\\n",
       "0         0.000221           0.005504        -0.003023             0.000734   \n",
       "\n",
       "   Total night calls  Total intl minutes  Total intl calls  \\\n",
       "0           -0.00346            0.071943         -0.068698   \n",
       "\n",
       "   Customer service calls  \n",
       "0                0.436626  "
      ]
     },
     "execution_count": 225,
     "metadata": {},
     "output_type": "execute_result"
    }
   ],
   "source": [
    "#Display coefficient values from logistic regression\n",
    "pd.DataFrame(reg.coef_, columns=feature_cols)"
   ]
  },
  {
   "cell_type": "markdown",
   "metadata": {},
   "source": [
    "<h1> Finding 3: We can predict whether a customer will sign up for an International Plan with 90% accuracy </h1>"
   ]
  },
  {
   "cell_type": "markdown",
   "metadata": {},
   "source": [
    "We tested multiple machine learning algorithms and compared their accuracy scores to see which model could predict if a customer had an International Plan most accurately. The winning algorithm was the logistic regression and support vector machine algorithms with an accuracy of 90%."
   ]
  },
  {
   "cell_type": "code",
   "execution_count": 252,
   "metadata": {},
   "outputs": [],
   "source": [
    "#Assign new feature and target columns for models to predict International Plan\n",
    "intl_cols = ['Area code','Number vmail messages',\n",
    "                'Total day minutes','Total day calls',\n",
    "                'Total eve minutes','Total eve calls',\n",
    "                'Total night minutes','Total night calls',\n",
    "                'Customer service calls']\n",
    "X_intl = data[intl_cols]\n",
    "y_intl = data['International plan']\n",
    "X_intl_train, X_intl_test, y_intl_train, y_intl_test = train_test_split(X_intl, y_intl, test_size=0.3)"
   ]
  },
  {
   "cell_type": "code",
   "execution_count": 253,
   "metadata": {},
   "outputs": [],
   "source": [
    "#Logistic Regression\n",
    "reg_intl = LogisticRegression(solver='liblinear')\n",
    "fit_intl_reg = reg_intl.fit(X_intl_train, y_intl_train)\n",
    "y_lr_intl_pred = reg_intl.predict(X_intl_test)\n",
    "\n",
    "#K-Nearest Neighbor\n",
    "kn_intl = KNeighborsClassifier(n_neighbors=5)\n",
    "fit__intlkn = kn_intl.fit(X_intl_train, y_intl_train)\n",
    "y_kn_intl_pred = kn_intl.predict(X_intl_test)\n",
    "\n",
    "#Decision Tree\n",
    "dt_intl = DecisionTreeClassifier()\n",
    "fit__intldt = dt_intl.fit(X_intl_train, y_intl_train)\n",
    "y_dt_intl_pred = dt_intl.predict(X_intl_test)\n",
    "\n",
    "#Support Vector Machine\n",
    "svm_intl = SVC()\n",
    "fit_intl_svm = svm_intl.fit(X_intl_train, y_intl_train)\n",
    "y_svm_intl_pred = svm_intl.predict(X_intl_test)"
   ]
  },
  {
   "cell_type": "code",
   "execution_count": 254,
   "metadata": {},
   "outputs": [
    {
     "name": "stdout",
     "output_type": "stream",
     "text": [
      "Logistic Regression:  0.898\n",
      "K-Nearest Neighbor:  0.895\n",
      "Decision Tree:  0.803\n",
      "Support Vector Machine:  0.898\n"
     ]
    }
   ],
   "source": [
    "#Print out accuracy scores for each algorithm\n",
    "print('Logistic Regression: ', accuracy_score(y_intl_test, y_lr_intl_pred))\n",
    "print('K-Nearest Neighbor: ', accuracy_score(y_intl_test, y_kn_intl_pred))\n",
    "print('Decision Tree: ', accuracy_score(y_intl_test, y_dt_intl_pred))\n",
    "print('Support Vector Machine: ', accuracy_score(y_intl_test, y_svm_intl_pred))"
   ]
  },
  {
   "cell_type": "code",
   "execution_count": 255,
   "metadata": {},
   "outputs": [
    {
     "name": "stdout",
     "output_type": "stream",
     "text": [
      "              precision    recall  f1-score   support\n",
      "\n",
      "           0       0.90      1.00      0.95       898\n",
      "           1       0.00      0.00      0.00       102\n",
      "\n",
      "    accuracy                           0.90      1000\n",
      "   macro avg       0.45      0.50      0.47      1000\n",
      "weighted avg       0.81      0.90      0.85      1000\n",
      "\n"
     ]
    }
   ],
   "source": [
    "#Classification report\n",
    "print(classification_report(y_intl_test, y_lr_intl_pred))"
   ]
  },
  {
   "cell_type": "markdown",
   "metadata": {},
   "source": [
    "<h3> Managerial Insight </h3>"
   ]
  },
  {
   "cell_type": "markdown",
   "metadata": {},
   "source": [
    "By being able to predict whether or not a customer has a need for our International Plan, we can direct targeted advertisements to them and get them to sign up before they might on their own or if they do not know that we offer an International Plan. This also reduces the risk of customers cancelling their subscription and going to a competitor that might also offer an International Plan. Similar to the model predicting churn, we can run the winning algorithm on our existing customer base to see which customers that do not have an International Plan with us are most likely to need one and give that list to our marketing team. The marketing team can then use the list to target these customers with advertisements informing them of our International Plan, increasing profits if they sign up."
   ]
  },
  {
   "cell_type": "markdown",
   "metadata": {},
   "source": [
    "<h3> Machine learning mastery Insight </h3>"
   ]
  },
  {
   "cell_type": "markdown",
   "metadata": {},
   "source": [
    "The process for getting this insight is very similar to the first insight but we needed to choose different feature and target columns to change what our models we predicting. These new sets of data then had to be split into testing and training buckets which the new models used. Interestingly, the support vector machine and logistic regression algorithms were tied for first as the most accurate model instead of the K-nearest neighbor model that was best for predicting Churn."
   ]
  }
 ],
 "metadata": {
  "kernelspec": {
   "display_name": "Python 3",
   "language": "python",
   "name": "python3"
  },
  "language_info": {
   "codemirror_mode": {
    "name": "ipython",
    "version": 3
   },
   "file_extension": ".py",
   "mimetype": "text/x-python",
   "name": "python",
   "nbconvert_exporter": "python",
   "pygments_lexer": "ipython3",
   "version": "3.8.5"
  }
 },
 "nbformat": 4,
 "nbformat_minor": 4
}
